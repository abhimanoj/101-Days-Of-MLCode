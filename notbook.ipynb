{
 "metadata": {
  "language_info": {
   "codemirror_mode": {
    "name": "ipython",
    "version": 3
   },
   "file_extension": ".py",
   "mimetype": "text/x-python",
   "name": "python",
   "nbconvert_exporter": "python",
   "pygments_lexer": "ipython3",
   "version": 3
  },
  "orig_nbformat": 2
 },
 "nbformat": 4,
 "nbformat_minor": 2,
 "cells": [
  {
   "cell_type": "code",
   "execution_count": null,
   "metadata": {},
   "outputs": [
    {
     "output_type": "error",
     "ename": "Error",
     "evalue": "Jupyter cannot be started. Error attempting to locate jupyter: Data Science libraries jupyter and notebook are not installed in interpreter Python 3.8.5 64-bit.",
     "traceback": [
      "Error: Jupyter cannot be started. Error attempting to locate jupyter: Data Science libraries jupyter and notebook are not installed in interpreter Python 3.8.5 64-bit.",
      "at S.startServer (/home/abhi/.vscode/extensions/ms-toolsai.jupyter-2021.6.832593372/out/client/extension.js:54:382764)",
      "at runMicrotasks (<anonymous>)",
      "at processTicksAndRejections (internal/process/task_queues.js:93:5)",
      "at async S.createServer (/home/abhi/.vscode/extensions/ms-toolsai.jupyter-2021.6.832593372/out/client/extension.js:54:382059)",
      "at async connect (/home/abhi/.vscode/extensions/ms-toolsai.jupyter-2021.6.832593372/out/client/extension.js:90:179008)",
      "at async D.ensureConnectionAndNotebookImpl (/home/abhi/.vscode/extensions/ms-toolsai.jupyter-2021.6.832593372/out/client/extension.js:37:627194)",
      "at async D.ensureConnectionAndNotebook (/home/abhi/.vscode/extensions/ms-toolsai.jupyter-2021.6.832593372/out/client/extension.js:37:625426)",
      "at async D.clearResult (/home/abhi/.vscode/extensions/ms-toolsai.jupyter-2021.6.832593372/out/client/extension.js:37:621088)",
      "at async D.reexecuteCell (/home/abhi/.vscode/extensions/ms-toolsai.jupyter-2021.6.832593372/out/client/extension.js:37:607353)",
      "at async D.reexecuteCells (/home/abhi/.vscode/extensions/ms-toolsai.jupyter-2021.6.832593372/out/client/extension.js:37:603557)"
     ]
    }
   ],
   "source": [
    "print(\"Jupyter Code Start\")"
   ]
  },
  {
   "cell_type": "code",
   "execution_count": null,
   "metadata": {},
   "outputs": [],
   "source": []
  }
 ]
}